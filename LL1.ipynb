{
 "cells": [
  {
   "cell_type": "markdown",
   "metadata": {},
   "source": [
    "# LL1 Grammar"
   ]
  },
  {
   "cell_type": "markdown",
   "metadata": {
    "collapsed": true
   },
   "source": [
    "##  get rules\n"
   ]
  },
  {
   "cell_type": "code",
   "execution_count": 2,
   "metadata": {},
   "outputs": [
    {
     "name": "stdout",
     "output_type": "stream",
     "text": [
      "{'S': [['A', 'B', 'c']], 'A': [['b', 'A'], ['~']], 'B': [['c']]}\n"
     ]
    }
   ],
   "source": [
    "lis=[]\n",
    "\n",
    "terminal=set()\n",
    "non_terminal=set()\n",
    "dic_rules={}\n",
    "rules=open(\"rules.txt\",\"r\")\n",
    "nonterminal='S'\n",
    "for n in ( rules ):\n",
    "    is_nonterminal=False\n",
    "    for s in n:\n",
    "        if(s=='-'):\n",
    "             is_nonterminal=True\n",
    "        if(s.isalpha() or s=='~'):\n",
    "            \n",
    "            if(not is_nonterminal):\n",
    "                non_terminal.add(s)\n",
    "                nonterminal=s\n",
    "            else:\n",
    "                lis.append(s)\n",
    "    if nonterminal in dic_rules.keys():\n",
    "        dic_rules[nonterminal].append(lis[:])\n",
    "    else:\n",
    "        dic_rules[nonterminal]=[]\n",
    "        dic_rules[nonterminal].append(lis[:])\n",
    "    lis=[]\n",
    "        \n",
    "    \n",
    "                \n",
    "                \n",
    "print(dic_rules)\n",
    "                \n",
    "                \n",
    "    "
   ]
  },
  {
   "cell_type": "markdown",
   "metadata": {},
   "source": [
    "## Step 1 : Find all nullable rules and nullable nonterminals \n"
   ]
  },
  {
   "cell_type": "code",
   "execution_count": 3,
   "metadata": {},
   "outputs": [
    {
     "name": "stdout",
     "output_type": "stream",
     "text": [
      "{'A'} {'S', 'B', 'A'}\n"
     ]
    }
   ],
   "source": [
    "nullable_rules=set()\n",
    "not_nullable_rules=set()\n",
    "def step_1():\n",
    "    for s in dic_rules.keys():\n",
    "        non_ter=s\n",
    "        lis=dic_rules[s]\n",
    "        for r in ((lis)):\n",
    "            for c in range(len(r)):\n",
    "                if(r[c] not in non_terminal and not r[c]=='~'):\n",
    "                    terminal.add(r[c])\n",
    "                if(r[c]=='~'):\n",
    "                    nullable_rules.add(non_ter)\n",
    "                else:\n",
    "                    not_nullable_rules.add(non_ter)\n",
    "\n",
    "   \n",
    "step_1()\n",
    "print(nullable_rules,not_nullable_rules)"
   ]
  },
  {
   "cell_type": "markdown",
   "metadata": {},
   "source": [
    "## Step 2 : Compute the relation Begins Directly With for each nonterminal:"
   ]
  },
  {
   "cell_type": "code",
   "execution_count": 4,
   "metadata": {},
   "outputs": [
    {
     "name": "stdout",
     "output_type": "stream",
     "text": [
      "{'S': ['A', 'B'], 'A': ['b'], 'B': ['c']}\n"
     ]
    }
   ],
   "source": [
    "\n",
    "BDW={}   \n",
    "def step_2():\n",
    "    for i in (dic_rules.keys()):\n",
    "        lis=dic_rules[i]\n",
    "       \n",
    "        for r in range (len(lis)):\n",
    "            \n",
    "            x=0\n",
    "            cond=True\n",
    "            \n",
    "            while(cond):\n",
    "                \n",
    "                if(lis[r][x] in not_nullable_rules or lis[r][x] in terminal):\n",
    "                   \n",
    "                    if i in BDW.keys():\n",
    "                        BDW[i].append(lis[r][x])\n",
    "                    else:\n",
    "                        BDW[i]=[]\n",
    "                        BDW[i].append(lis[r][x])\n",
    "                  \n",
    "                    if(lis[r][x] in nullable_rules):\n",
    "                        x=x+1\n",
    "                    else:\n",
    "                        cond=False\n",
    "                        \n",
    "                elif(lis[r][x] in nullable_rules):\n",
    "                        x=x+1\n",
    "                else:\n",
    "                        cond=False\n",
    "                       \n",
    "                \n",
    "step_2()\n",
    "print (BDW)\n"
   ]
  },
  {
   "cell_type": "markdown",
   "metadata": {},
   "source": [
    "## Step 3 :Compute the relation Begins With:s"
   ]
  },
  {
   "cell_type": "code",
   "execution_count": 5,
   "metadata": {},
   "outputs": [
    {
     "name": "stdout",
     "output_type": "stream",
     "text": [
      "{'S': ['A', 'B', 'b', 'c', 'S'], 'A': ['b', 'A'], 'B': ['c', 'B'], 'c': ['c'], 'b': ['b']}\n"
     ]
    }
   ],
   "source": [
    "import copy\n",
    "\n",
    "BW=copy.deepcopy(BDW)\n",
    "\n",
    "def step_3():\n",
    "    \n",
    "    cond=True\n",
    "    f=False\n",
    "    for i in BDW.keys():\n",
    "        \n",
    "        for j in BDW[i]:\n",
    "            f=False\n",
    "            cond=True\n",
    "            while(cond):\n",
    "               \n",
    "                if(j in BDW.keys()):\n",
    "                    f=True\n",
    "                    \n",
    "                    j=BDW[j][0]\n",
    "                    \n",
    "                else:\n",
    "                    if(f):\n",
    "\n",
    "                        BW[i].append(j)\n",
    "                    cond=False\n",
    "    for i in terminal:\n",
    "        if i in BW:\n",
    "            BW[i].append(i)\n",
    "        else:\n",
    "            BW[i]=[]\n",
    "            BW[i].append(i)\n",
    "    for i in non_terminal:\n",
    "        if i in BW:\n",
    "            BW[i].append(i)\n",
    "        else:\n",
    "            BW[i]=[]\n",
    "            BW[i].append(i)\n",
    "                    \n",
    "step_3()\n",
    "print(BW)\n",
    "         \n",
    "                \n",
    "        \n",
    "    \n",
    "    "
   ]
  },
  {
   "cell_type": "markdown",
   "metadata": {},
   "source": [
    "## Step 4 :Compute the set of terminals First(x) for each symbol x in the grammar."
   ]
  },
  {
   "cell_type": "code",
   "execution_count": 6,
   "metadata": {},
   "outputs": [
    {
     "name": "stdout",
     "output_type": "stream",
     "text": [
      "{'S': ['b', 'c'], 'A': ['b'], 'B': ['c'], 'c': ['c'], 'b': ['b']}\n"
     ]
    }
   ],
   "source": [
    "first_x={}\n",
    "def step_4():\n",
    "    \n",
    "    for i in BW.keys():\n",
    "        for z in BW[i]:\n",
    "            for j in z:\n",
    "                    if(j in terminal):\n",
    "                        if(i in first_x.keys()):\n",
    "                            first_x[i].append(j)\n",
    "                        else:\n",
    "                            first_x[i]=[]\n",
    "                            first_x[i].append(j)\n",
    "step_4()\n",
    "print(first_x)"
   ]
  },
  {
   "cell_type": "markdown",
   "metadata": {},
   "source": [
    "## Step 5: Compute First of right side of each rule:"
   ]
  },
  {
   "cell_type": "code",
   "execution_count": 7,
   "metadata": {},
   "outputs": [
    {
     "name": "stdout",
     "output_type": "stream",
     "text": [
      "{'ABc': {'c', 'b'}, 'bA': {'b'}, '~': {''}, 'c': {'c'}}\n"
     ]
    }
   ],
   "source": [
    "first_of_right={}\n",
    "def step_5():\n",
    "    for i in dic_rules.keys():\n",
    "        for z in dic_rules[i]:\n",
    "           \n",
    "            first_of_right[''.join(z)]=set()\n",
    "            for j in z:\n",
    "                if(not j=='~'):\n",
    "                    first_of_right[''.join(z)].add(''.join(first_x[j]))\n",
    "                else:\n",
    "                    \n",
    "                    first_of_right[''.join(z)].add(\"\")\n",
    "                    \n",
    "step_5()\n",
    "print(first_of_right)"
   ]
  },
  {
   "cell_type": "markdown",
   "metadata": {},
   "source": [
    "## Step 6 : Compute the relation Is Followed Directly By:"
   ]
  },
  {
   "cell_type": "code",
   "execution_count": 8,
   "metadata": {},
   "outputs": [
    {
     "name": "stdout",
     "output_type": "stream",
     "text": [
      "{'A': 'B', 'B': 'c'}\n"
     ]
    }
   ],
   "source": [
    "FDB={}\n",
    "def step_6():\n",
    "    for i in dic_rules.keys():\n",
    "            for z in dic_rules[i]:\n",
    "                s =len(z)\n",
    "                ind=0\n",
    "                for j in z:\n",
    "                    if(j in non_terminal and ind < s-1):\n",
    "                        FDB[j]=z[ind+1]\n",
    "                    ind=ind+1\n",
    "                        \n",
    "step_6()\n",
    "print (FDB)"
   ]
  },
  {
   "cell_type": "markdown",
   "metadata": {},
   "source": [
    "## Step 7 : Compute the relation Is Direct End Of :"
   ]
  },
  {
   "cell_type": "code",
   "execution_count": 9,
   "metadata": {},
   "outputs": [
    {
     "name": "stdout",
     "output_type": "stream",
     "text": [
      "c    S\n",
      "A    A\n",
      "b    A\n",
      "~    A\n",
      "c    B\n",
      "{'c': ['S', 'B'], 'A': ['A'], 'b': ['A']}\n"
     ]
    }
   ],
   "source": [
    "DEO={}\n",
    "def step_7():\n",
    "     for i in dic_rules.keys():\n",
    "            for z in dic_rules[i]:\n",
    "                #print(i)\n",
    "                ind=-1\n",
    "                c=True\n",
    "                while(c):\n",
    "                        \n",
    "                        print(z[ind],\"  \",i)\n",
    "                    \n",
    "                        if(z[ind] in DEO.keys()):\n",
    "                            if(z[ind] != '~'):\n",
    "                                DEO[z[ind]].append(i)\n",
    "                        else:\n",
    "                             if(z[ind] != '~'):\n",
    "                                DEO[z[ind]]=[i]\n",
    "                        if(z[ind] in nullable_rules ):\n",
    "                            ind =ind -1\n",
    "                        else:\n",
    "                            c=False\n",
    " \n",
    "step_7()\n",
    "print (DEO)\n",
    "                    \n",
    "                    "
   ]
  },
  {
   "cell_type": "markdown",
   "metadata": {},
   "source": [
    "## Srep 8 : Compute the relation Is End Of :"
   ]
  },
  {
   "cell_type": "code",
   "execution_count": 10,
   "metadata": {},
   "outputs": [
    {
     "name": "stdout",
     "output_type": "stream",
     "text": [
      "{'c': ['S', 'B', 'c'], 'A': ['A'], 'b': ['A', 'b'], 'S': ['S'], 'B': ['B']}\n"
     ]
    }
   ],
   "source": [
    "EO=copy.deepcopy(DEO)\n",
    "\n",
    "def step_8():\n",
    "    cond=True\n",
    "    f=False\n",
    "    for i in DEO.keys():\n",
    "        \n",
    "        for j in DEO[i]:\n",
    "            f=False\n",
    "            cond=True\n",
    "           \n",
    "            while(cond):\n",
    "               \n",
    "                if(j in DEO.keys() and j !=DEO[j][0]):\n",
    "                    f=True\n",
    "                    \n",
    "                    j=DEO[j][0]\n",
    "                    \n",
    "                else:\n",
    "                    if(f):\n",
    "                    \n",
    "                            EO[i].append(j)\n",
    "                    cond=False\n",
    "    for i in terminal:\n",
    "        if i in EO:\n",
    "             if(not i in EO[i]):\n",
    "                    EO[i].append(i)\n",
    "        else:\n",
    "            EO[i]=[]\n",
    "            \n",
    "            EO[i].append(i)\n",
    "    for i in non_terminal:\n",
    "        if i in EO:\n",
    "             if(not i in EO[i]):\n",
    "                    EO[i].append(i)\n",
    "        else:\n",
    "            EO[i]=[]\n",
    "            EO[i].append(i)\n",
    "step_8()\n",
    "print (EO)"
   ]
  },
  {
   "cell_type": "markdown",
   "metadata": {},
   "source": [
    "## Step 9. Compute the relation Is Followed By:"
   ]
  },
  {
   "cell_type": "code",
   "execution_count": 13,
   "metadata": {},
   "outputs": [
    {
     "name": "stdout",
     "output_type": "stream",
     "text": [
      "{'c': ['c'], 'A': ['c', 'B'], 'b': ['c', 'B'], 'B': ['c']}\n"
     ]
    }
   ],
   "source": [
    "FB={}\n",
    "def step_9():\n",
    "    \n",
    "    for w in EO.keys():\n",
    "        for x in EO[w]:\n",
    "            if(x in FDB.keys()):\n",
    "               \n",
    "                for y in FDB[x]:\n",
    "                    if(y in BW.keys()):\n",
    "                        for z in BW[y]:\n",
    "                            if(w in FB.keys()):\n",
    "                                FB[w].append(z)\n",
    "                            else:\n",
    "                                FB[w]=[]\n",
    "                                FB[w].append(z)\n",
    "                        \n",
    "step_9()  \n",
    "print (FB)              \n",
    "            "
   ]
  },
  {
   "cell_type": "markdown",
   "metadata": {
    "collapsed": true
   },
   "source": [
    "## Step 10. Extend the FB relation to include endmarker:"
   ]
  },
  {
   "cell_type": "code",
   "execution_count": 22,
   "metadata": {},
   "outputs": [
    {
     "name": "stdout",
     "output_type": "stream",
     "text": [
      "{'c': ['c'], 'A': ['c', 'B'], 'b': ['c', 'B'], 'B': ['c'], 'S': ['#', '#', '#', '#']}\n"
     ]
    }
   ],
   "source": [
    "def step_10():\n",
    "    for i in EO.keys():\n",
    "        if(i in non_terminal):\n",
    "            for z in EO[i]:\n",
    "                if(z=='S'):\n",
    "                    if(i in FB.keys()):\n",
    "                        FB[i].append('#')\n",
    "                    else:\n",
    "                        FB[i]=[]\n",
    "                        FB[i].append('#')\n",
    "step_10()\n",
    "print (FB)"
   ]
  },
  {
   "cell_type": "markdown",
   "metadata": {},
   "source": [
    "## Step 11. Compute the Follow Set for each nullable nonterminal:"
   ]
  },
  {
   "cell_type": "code",
   "execution_count": 27,
   "metadata": {},
   "outputs": [
    {
     "name": "stdout",
     "output_type": "stream",
     "text": [
      "{'A': ['c']}\n"
     ]
    }
   ],
   "source": [
    "FOL={}\n",
    "def step_11():\n",
    "    for i in FB.keys():\n",
    "        if(i in nullable_rules):\n",
    "            if(i in FOL.keys()):\n",
    "                for z in FB[i]:\n",
    "                    \n",
    "                       if z in terminal:\n",
    "                            FOL[i].append(z)\n",
    "            else:\n",
    "                for z in FB[i]:\n",
    "                    \n",
    "                       if z in terminal:\n",
    "                            FOL[i]=[]\n",
    "                            FOL[i].append(z)\n",
    "                \n",
    "step_11()\n",
    "print (FOL)"
   ]
  }
 ],
 "metadata": {
  "kernelspec": {
   "display_name": "Python 3",
   "language": "python",
   "name": "python3"
  },
  "language_info": {
   "codemirror_mode": {
    "name": "ipython",
    "version": 3
   },
   "file_extension": ".py",
   "mimetype": "text/x-python",
   "name": "python",
   "nbconvert_exporter": "python",
   "pygments_lexer": "ipython3",
   "version": "3.6.1"
  }
 },
 "nbformat": 4,
 "nbformat_minor": 2
}
